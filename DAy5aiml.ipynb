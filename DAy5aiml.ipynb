{
 "cells": [
  {
   "cell_type": "code",
   "execution_count": 4,
   "metadata": {},
   "outputs": [
    {
     "name": "stdout",
     "output_type": "stream",
     "text": [
      "enter value1\n",
      "enter value100\n",
      "3\n",
      "5\n",
      "7\n",
      "11\n",
      "13\n",
      "17\n",
      "19\n",
      "23\n",
      "29\n",
      "31\n",
      "37\n",
      "41\n",
      "43\n",
      "47\n",
      "53\n",
      "59\n",
      "61\n",
      "67\n",
      "71\n",
      "73\n"
     ]
    }
   ],
   "source": [
    "#to find first 20 non-even prime natural number\n",
    "a=int(input(\"enter value\"))\n",
    "b=int(input(\"enter value\"))\n",
    "j=0\n",
    "for i in range(a,b): \n",
    "    if (i > 1 and j<20): \n",
    "        for n in range(2, i//2 + 2): \n",
    "            if (i % n) == 0: \n",
    "                break\n",
    "            else: \n",
    "                if n == i//2 + 1: \n",
    "                    print(i) \n",
    "                    j=j+1"
   ]
  },
  {
   "cell_type": "code",
   "execution_count": 39,
   "metadata": {},
   "outputs": [
    {
     "name": "stdout",
     "output_type": "stream",
     "text": [
      "Stringfucntion\n",
      "2\n",
      "True\n",
      "4\n",
      "True\n",
      "True\n",
      "False\n",
      "stringFucntion\n",
      "False\n",
      "STRINGFUCNTION\n",
      "STRINGFUCNTION\n",
      "False\n",
      "False\n",
      "True\n",
      "14\n"
     ]
    }
   ],
   "source": [
    "#string funcitons\n",
    "s=\"stringfucntion\"\n",
    "print(s.capitalize())#1\n",
    "print(s.count('i'))#2\n",
    "print(s.endswith('n'))#3\n",
    "print(s.find('n',3,9))#4\n",
    "print(s.isalnum())#5\n",
    "print(s.isalpha())#6\n",
    "print(s.isdecimal())#7\n",
    "print(s.replace('f','F'))#8\n",
    "print(s.isupper())#9\n",
    "print(s.swapcase())#10\n",
    "print(s.upper())#11\n",
    "print(s.isspace())#12\n",
    "print(s.startswith('e'))#13\n",
    "print(s.isprintable())#14\n",
    "print(len(s))#15\n"
   ]
  },
  {
   "cell_type": "code",
   "execution_count": 26,
   "metadata": {},
   "outputs": [
    {
     "name": "stdout",
     "output_type": "stream",
     "text": [
      "enter the string uiopuy\n",
      "enter another string to compareouiuoiui\n",
      "they are neither anagram nor palindrome\n"
     ]
    }
   ],
   "source": [
    "#to check whehther the give string is anagram or palindrome\n",
    "str=input(\"enter the string \")\n",
    "if(str == (str[::-1])):\n",
    "    print(\"string is palindrome\")\n",
    "else:\n",
    "    str1=input(\"enter another string to compare\")\n",
    "    if(sorted(str)==sorted(str1)):\n",
    "        print(\"they are anagrams\")\n",
    "    else:\n",
    "        print(\"they are neither anagram nor palindrome\")\n",
    "     \n"
   ]
  },
  {
   "cell_type": "code",
   "execution_count": 36,
   "metadata": {},
   "outputs": [
    {
     "name": "stdout",
     "output_type": "stream",
     "text": [
      "etner the string Dr. Darshan Ingle@AI-ML Trainer\n",
      "drdarshaningleaimltrainer"
     ]
    }
   ],
   "source": [
    "#to remove the special characters\n",
    "str=input(\"etner the string \")\n",
    "for i in str:\n",
    "    if((i>=\"a\"and i<=\"z\") | (i>=\"A\"and i<=\"Z\")):\n",
    "        print(i.lower(),end=\"\")"
   ]
  },
  {
   "cell_type": "code",
   "execution_count": null,
   "metadata": {},
   "outputs": [],
   "source": []
  }
 ],
 "metadata": {
  "kernelspec": {
   "display_name": "Python 3",
   "language": "python",
   "name": "python3"
  },
  "language_info": {
   "codemirror_mode": {
    "name": "ipython",
    "version": 3
   },
   "file_extension": ".py",
   "mimetype": "text/x-python",
   "name": "python",
   "nbconvert_exporter": "python",
   "pygments_lexer": "ipython3",
   "version": "3.7.6"
  }
 },
 "nbformat": 4,
 "nbformat_minor": 4
}
