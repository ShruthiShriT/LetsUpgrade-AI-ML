{
 "cells": [
  {
   "cell_type": "code",
   "execution_count": 50,
   "metadata": {},
   "outputs": [
    {
     "name": "stdout",
     "output_type": "stream",
     "text": [
      "[[[7.04134219e-01 9.32608042e-01 5.54695301e-01]\n",
      "  [9.38039139e-01 8.97418043e-01 9.19158794e-04]\n",
      "  [8.96963942e-01 5.18506068e-01 4.56798616e-01]]\n",
      "\n",
      " [[6.34320002e-01 6.40396258e-01 3.82651410e-01]\n",
      "  [9.76949018e-01 8.15695295e-01 3.65633407e-01]\n",
      "  [3.23321322e-01 5.35525944e-01 4.99972606e-01]]\n",
      "\n",
      " [[4.40267443e-01 4.17807682e-03 1.81902771e-01]\n",
      "  [4.03465815e-01 8.37724775e-01 3.28441194e-01]\n",
      "  [3.96981682e-02 2.64034816e-01 8.59676506e-01]]]\n"
     ]
    }
   ],
   "source": [
    "#Create a 3x3x3 array with random values\n",
    "import numpy as np\n",
    "x = np.random.random((3,3,3))\n",
    "print(x)"
   ]
  },
  {
   "cell_type": "code",
   "execution_count": 51,
   "metadata": {},
   "outputs": [
    {
     "data": {
      "text/plain": [
       "array([[0, 0, 0, 0, 0],\n",
       "       [1, 0, 0, 0, 0],\n",
       "       [0, 2, 0, 0, 0],\n",
       "       [0, 0, 3, 0, 0],\n",
       "       [0, 0, 0, 4, 0]])"
      ]
     },
     "execution_count": 51,
     "metadata": {},
     "output_type": "execute_result"
    }
   ],
   "source": [
    "# Create a 5x5 matrix with values 1,2,3,4 just below the diagonal\n",
    "np.diagflat([1,2,3,4], -1)\n",
    "\n",
    "# Z = np.diag(1+np.arange(4),k=-1)\n",
    "# print(Z)\n",
    "# another way"
   ]
  },
  {
   "cell_type": "code",
   "execution_count": 52,
   "metadata": {},
   "outputs": [
    {
     "name": "stdout",
     "output_type": "stream",
     "text": [
      "[[0 1 0 1 0 1 0 1]\n",
      " [1 0 1 0 1 0 1 0]\n",
      " [0 1 0 1 0 1 0 1]\n",
      " [1 0 1 0 1 0 1 0]\n",
      " [0 1 0 1 0 1 0 1]\n",
      " [1 0 1 0 1 0 1 0]\n",
      " [0 1 0 1 0 1 0 1]\n",
      " [1 0 1 0 1 0 1 0]]\n"
     ]
    }
   ],
   "source": [
    "# Create a 8x8 matrix and fill it with a checkerboard pattern\n",
    "x = np.zeros((8,8),dtype=int)\n",
    "x[1::2,::2] = 1\n",
    "x[::2,1::2] = 1\n",
    "print(x)\n"
   ]
  },
  {
   "cell_type": "code",
   "execution_count": 53,
   "metadata": {},
   "outputs": [
    {
     "name": "stdout",
     "output_type": "stream",
     "text": [
      "Original Array:\n",
      "[[0.47422253 0.05763938 0.49366645 0.28608433 0.52593156]\n",
      " [0.38004763 0.55006629 0.59226086 0.47428973 0.75744021]\n",
      " [0.41633875 0.96952566 0.91863964 0.81692006 0.18382886]\n",
      " [0.75429393 0.0333307  0.83355031 0.34175636 0.17859588]\n",
      " [0.32007649 0.96487502 0.92565563 0.90095321 0.36367987]]\n",
      "After normalization:\n",
      "[[0.47094019 0.0259654  0.49170928 0.2699797  0.52617338]\n",
      " [0.37034693 0.55195297 0.59702326 0.47101196 0.77346017]\n",
      " [0.40911142 1.         0.94564592 0.83699379 0.16075514]\n",
      " [0.77009946 0.         0.85475745 0.32944597 0.15516552]\n",
      " [0.30628855 0.9950324  0.95314007 0.9267541  0.35286365]]\n"
     ]
    }
   ],
   "source": [
    "# Normalize a 5x5 random matrix\n",
    "x= np.random.random((5,5))\n",
    "print(\"Original Array:\")\n",
    "print(x)\n",
    "xmax, xmin=x.max(),x.min()\n",
    "x = (x - xmin)/(xmax - xmin)\n",
    "print(\"After normalization:\")\n",
    "print(x)"
   ]
  },
  {
   "cell_type": "code",
   "execution_count": 54,
   "metadata": {},
   "outputs": [
    {
     "name": "stdout",
     "output_type": "stream",
     "text": [
      "[3 4 5 8]\n"
     ]
    }
   ],
   "source": [
    "#  How to find common values between two arrays\n",
    "a= np.random.randint(0,10,10)\n",
    "b= np.random.randint(0,10,10)\n",
    "print(np.intersect1d(a,b))\n",
    "\n"
   ]
  },
  {
   "cell_type": "code",
   "execution_count": 55,
   "metadata": {},
   "outputs": [
    {
     "name": "stdout",
     "output_type": "stream",
     "text": [
      "Yestraday:  2020-07-27\n",
      "Today:  2020-07-28\n",
      "Tomorrow:  2020-07-29\n"
     ]
    }
   ],
   "source": [
    "# How to get the dates of yesterday, today and tomorrow\n",
    "yesterday = np.datetime64('today', 'D') - np.timedelta64(1, 'D')\n",
    "print(\"Yestraday: \",yesterday)\n",
    "today     = np.datetime64('today', 'D')\n",
    "print(\"Today: \",today)\n",
    "tomorrow  = np.datetime64('today', 'D') + np.timedelta64(1, 'D')\n",
    "print(\"Tomorrow: \",tomorrow)"
   ]
  },
  {
   "cell_type": "code",
   "execution_count": 56,
   "metadata": {},
   "outputs": [
    {
     "name": "stdout",
     "output_type": "stream",
     "text": [
      "[0.83135364 0.57131077 0.38351266 0.59341269 0.94063148] [0.30819496 0.65469262 0.14869294 0.3733357  0.55801838]\n"
     ]
    },
    {
     "data": {
      "text/plain": [
       "False"
      ]
     },
     "execution_count": 56,
     "metadata": {},
     "output_type": "execute_result"
    }
   ],
   "source": [
    "# Consider two random array A and B, check if they are equal\n",
    "a=np.random.random(5)\n",
    "b=np.random.random(5)\n",
    "print(a,b)\n",
    "comparison=a==b\n",
    "comparison.all()\n"
   ]
  },
  {
   "cell_type": "code",
   "execution_count": 57,
   "metadata": {},
   "outputs": [
    {
     "name": "stdout",
     "output_type": "stream",
     "text": [
      "[0.40456102 0.4057741  0.14477785 0.         0.35445781]\n"
     ]
    }
   ],
   "source": [
    "# Create random vector of size 10 and replace the maximum value by 0\n",
    "a=np.random.random(5)\n",
    "a[a.argmax()] = 0\n",
    "print(a)"
   ]
  },
  {
   "cell_type": "code",
   "execution_count": null,
   "metadata": {},
   "outputs": [],
   "source": []
  },
  {
   "cell_type": "code",
   "execution_count": 59,
   "metadata": {},
   "outputs": [
    {
     "name": "stdout",
     "output_type": "stream",
     "text": [
      "[ 0  1  2  3  4  5  6  7  8  9 10 11 12 13 14 15 16 17 18 19 20 21 22 23\n",
      " 24 25 26 27 28 29 30 31 32 33 34 35 36 37 38 39 40 41 42 43 44 45 46 47\n",
      " 48 49 50 51 52 53 54 55 56 57 58 59 60 61 62 63 64 65 66 67 68 69 70 71\n",
      " 72 73 74 75 76 77 78 79 80 81 82 83 84 85 86 87 88 89 90 91 92 93 94 95\n",
      " 96 97 98 99]\n"
     ]
    }
   ],
   "source": [
    "# How to print all the values of an array\n",
    "import numpy as np\n",
    "a = np.arange(100)\n",
    "np.set_printoptions(threshold=np.inf)\n",
    "print(a)"
   ]
  },
  {
   "cell_type": "code",
   "execution_count": 60,
   "metadata": {},
   "outputs": [
    {
     "name": "stdout",
     "output_type": "stream",
     "text": [
      "[[0.94903887 0.17153335 0.38662931 0.80271946 0.56266342]\n",
      " [0.39426579 0.92259083 0.17841425 0.30308659 0.76944588]\n",
      " [0.62991857 0.67704031 0.28189589 0.58118421 0.13942689]\n",
      " [0.61738934 0.20145045 0.23113754 0.94014968 0.27129781]\n",
      " [0.47822266 0.29253698 0.7706562  0.55533536 0.90301689]]\n"
     ]
    }
   ],
   "source": [
    "#Subtract the mean of each row of a matrix\n",
    "a = np.random.rand(5, 5)\n",
    "b= a - a.mean(axis=1).reshape(-1, 1)\n",
    "print(a)\n"
   ]
  },
  {
   "cell_type": "code",
   "execution_count": 61,
   "metadata": {},
   "outputs": [
    {
     "name": "stdout",
     "output_type": "stream",
     "text": [
      "[0.17904936 0.02010096 0.61926283 0.91070458 0.06858744 0.78413823\n",
      " 0.83661883 0.95289916 0.71342143 0.25635218]\n",
      "[2.17904936 1.02010096 2.61926283 2.91070458 0.06858744 4.78413823\n",
      " 1.83661883 4.95289916 1.71342143 3.25635218]\n"
     ]
    }
   ],
   "source": [
    "# Consider a given vector, how to add 1 to each element indexed by a second vector \n",
    "a = np.random.random((10))\n",
    "print(a)\n",
    "b = np.random.randint(0,len(a),20)\n",
    "a+= np.bincount(b, minlength=len(a))\n",
    "print(a)"
   ]
  },
  {
   "cell_type": "code",
   "execution_count": 62,
   "metadata": {},
   "outputs": [
    {
     "name": "stdout",
     "output_type": "stream",
     "text": [
      "[0.96876304 1.42338433 0.66186581 0.67575686 1.10588494]\n"
     ]
    }
   ],
   "source": [
    "# How to get the diagonal of a dot product\n",
    "A = np.random.uniform(0,1,(5,5))\n",
    "B = np.random.uniform(0,1,(5,5))\n",
    "print(np.diag(np.dot(A, B)))\n"
   ]
  },
  {
   "cell_type": "code",
   "execution_count": 63,
   "metadata": {},
   "outputs": [
    {
     "name": "stdout",
     "output_type": "stream",
     "text": [
      "[4 6 5 2 2 1 2 1 6 3 3 5 5 1 8 4 7 0 6 7]\n",
      "1\n"
     ]
    }
   ],
   "source": [
    "# How to find the most frequent value in an array?\n",
    "a= np.random.randint(0,10,20)\n",
    "print(a)\n",
    "print(np.bincount(a).argmax())"
   ]
  },
  {
   "cell_type": "code",
   "execution_count": 64,
   "metadata": {},
   "outputs": [
    {
     "name": "stdout",
     "output_type": "stream",
     "text": [
      "[9990 9991 9992 9993 9994 9995 9996 9997 9998 9999]\n"
     ]
    }
   ],
   "source": [
    "# to get the largest values of an array \n",
    "a = np.arange(10000)\n",
    "np.random.shuffle(a)\n",
    "n= 10#no of largest values \n",
    "print (a[np.argsort(a)[-n:]])\n",
    "\n"
   ]
  },
  {
   "cell_type": "code",
   "execution_count": 65,
   "metadata": {},
   "outputs": [
    {
     "name": "stdout",
     "output_type": "stream",
     "text": [
      "[(b'Hi', 1.1, 3) (b'hello', 8.9, 2)]\n"
     ]
    }
   ],
   "source": [
    "#How to create a record array from a regular array\n",
    "a = np.array([(\"Hi\",1.1,3),(\"hello\", 8.9, 2)])\n",
    "b = np.core.records.fromarrays(a.T,names='col1, col2, col3',formats = 'S8, f8, i8')\n",
    "print(b)"
   ]
  },
  {
   "cell_type": "code",
   "execution_count": null,
   "metadata": {},
   "outputs": [],
   "source": []
  }
 ],
 "metadata": {
  "kernelspec": {
   "display_name": "Python 3",
   "language": "python",
   "name": "python3"
  },
  "language_info": {
   "codemirror_mode": {
    "name": "ipython",
    "version": 3
   },
   "file_extension": ".py",
   "mimetype": "text/x-python",
   "name": "python",
   "nbconvert_exporter": "python",
   "pygments_lexer": "ipython3",
   "version": "3.7.6"
  }
 },
 "nbformat": 4,
 "nbformat_minor": 4
}
