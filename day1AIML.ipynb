{
 "cells": [
  {
   "cell_type": "code",
   "execution_count": 1,
   "metadata": {},
   "outputs": [
    {
     "name": "stdout",
     "output_type": "stream",
     "text": [
      "enter value5+4j\n",
      "enter value3+5j\n"
     ]
    },
    {
     "data": {
      "text/plain": [
       "(2-1j)"
      ]
     },
     "execution_count": 1,
     "metadata": {},
     "output_type": "execute_result"
    }
   ],
   "source": [
    "#sub the complex numbers\n",
    "a=complex(input(\"enter value\"))\n",
    "b=complex(input(\"enter value\"))\n",
    "sub=a-b\n",
    "sub"
   ]
  },
  {
   "cell_type": "code",
   "execution_count": 2,
   "metadata": {},
   "outputs": [
    {
     "name": "stdout",
     "output_type": "stream",
     "text": [
      "enter value16\n"
     ]
    },
    {
     "data": {
      "text/plain": [
       "2.0"
      ]
     },
     "execution_count": 2,
     "metadata": {},
     "output_type": "execute_result"
    }
   ],
   "source": [
    "#fourth root of a number\n",
    "import math\n",
    "a=int(input(\"enter value\"))\n",
    "for i in (1,4):\n",
    "  a=math.sqrt(a)\n",
    "\n",
    "a\n"
   ]
  },
  {
   "cell_type": "code",
   "execution_count": 3,
   "metadata": {},
   "outputs": [
    {
     "name": "stdout",
     "output_type": "stream",
     "text": [
      "enter value4\n",
      "enter the value5\n",
      "before 4 5\n",
      "after 5 4\n"
     ]
    }
   ],
   "source": [
    "#swap two numbers using temp value\n",
    "a=int(input(\"enter value\"))\n",
    "b=int(input(\"enter the value\"))\n",
    "print(\"before\",a,b)\n",
    "c=a\n",
    "a=b\n",
    "b=c\n",
    "print(\"after\",a,b)"
   ]
  },
  {
   "cell_type": "code",
   "execution_count": 4,
   "metadata": {},
   "outputs": [
    {
     "name": "stdout",
     "output_type": "stream",
     "text": [
      "enter value4\n",
      "enter the value7\n",
      "before 4 7\n",
      "After 7 4\n"
     ]
    }
   ],
   "source": [
    "#swap two numbers without using temp variable\n",
    "a=int(input(\"enter value\"))\n",
    "b=int(input(\"enter the value\"))\n",
    "print(\"before\",a,b)\n",
    "a=a+b   \n",
    "b=a-b \n",
    "a=a-b   \n",
    "print(\"After\",a,b) \n",
    "  "
   ]
  },
  {
   "cell_type": "code",
   "execution_count": 5,
   "metadata": {},
   "outputs": [
    {
     "name": "stdout",
     "output_type": "stream",
     "text": [
      "enter farenheit100\n",
      "celsius and kelvin 37.77777777777778 311.27777777777777\n"
     ]
    }
   ],
   "source": [
    "#conversation of farenheit and kelvin\n",
    "F =int(input(\"enter farenheit\"))\n",
    "C = (5/9)* (F - 32)\n",
    "K = 273.5 +((F - 32.0) * (5.0/9.0))\n",
    "print(\"celsius and kelvin\",C,K)"
   ]
  },
  {
   "cell_type": "code",
   "execution_count": 6,
   "metadata": {},
   "outputs": [
    {
     "name": "stdout",
     "output_type": "stream",
     "text": [
      "<class 'int'>\n",
      "<class 'float'>\n",
      "<class 'complex'>\n",
      "<class 'str'>\n",
      "<class 'list'>\n",
      "<class 'tuple'>\n",
      "<class 'bool'>\n",
      "<class 'dict'>\n",
      "<class 'set'>\n"
     ]
    }
   ],
   "source": [
    "#data types\n",
    "a=10\n",
    "print(type(a))\n",
    "b=10.2\n",
    "print(type(b))\n",
    "c=2+5j\n",
    "print(type(c))\n",
    "d=\"c\"\n",
    "print(type(d))\n",
    "f=[\"sss\",123]\n",
    "print(type(f))\n",
    "e=(1,2,3,4,5,5,6,6,6)\n",
    "print(type(e))\n",
    "r=True\n",
    "print(type(r))\n",
    "t={\"key1\" : \"J\", \"key2\" : 36}\n",
    "print(type(t))\n",
    "s={\"sss\",\"ssee\",\"dfdfd\"}\n",
    "print(type(s))\n"
   ]
  },
  {
   "cell_type": "markdown",
   "metadata": {},
   "source": [
    "\n",
    "# steps involved in creation of github profile and uploading the assignment\n",
    "\n",
    "    - create the github account using gmail account\n",
    "    - set up the profile by giving the username\n",
    "    - create a repository on the name Letsupgrade AI-Ml\n",
    "    - using the google colab or jupiter notebook finish the assignment in the single notebook\n",
    "    - we could upload the assignment by uploading in the repository by moving files and it should in public mode\n",
    "    - after that we can click on our assignment and copy the url give it in submission form\n",
    "    - to check whether it is public we could open the link in private window to check whether its visible\n",
    "\n",
    "\n"
   ]
  },
  {
   "cell_type": "code",
   "execution_count": null,
   "metadata": {},
   "outputs": [],
   "source": []
  },
  {
   "cell_type": "code",
   "execution_count": null,
   "metadata": {},
   "outputs": [],
   "source": []
  }
 ],
 "metadata": {
  "kernelspec": {
   "display_name": "Python 3",
   "language": "python",
   "name": "python3"
  },
  "language_info": {
   "codemirror_mode": {
    "name": "ipython",
    "version": 3
   },
   "file_extension": ".py",
   "mimetype": "text/x-python",
   "name": "python",
   "nbconvert_exporter": "python",
   "pygments_lexer": "ipython3",
   "version": "3.7.6"
  }
 },
 "nbformat": 4,
 "nbformat_minor": 4
}
