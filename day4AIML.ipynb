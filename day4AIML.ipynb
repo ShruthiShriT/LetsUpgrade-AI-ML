{
 "cells": [
  {
   "cell_type": "code",
   "execution_count": 5,
   "metadata": {},
   "outputs": [
    {
     "name": "stdout",
     "output_type": "stream",
     "text": [
      "enter value7+5j\n",
      "enter value4+7j\n",
      "add (11+12j)\n",
      "sub (3-2j)\n",
      "mul (-7+69j)\n",
      "div (0.9692307692307693-0.44615384615384623j)\n"
     ]
    }
   ],
   "source": [
    "#on complex numbers the operations are performed as\n",
    "a=complex(input(\"enter value\"))\n",
    "b=complex(input(\"enter value\"))\n",
    "print(\"add\",a+b)\n",
    "print(\"sub\",a-b)\n",
    "print(\"mul\",a*b)\n",
    "print(\"div\",a/b)\n",
    "#print(\"floordivison\",a//b)\n",
    "#print(\"modulo\",a%b)\n",
    "# asfloor divsion and modulo cannot be done on complex nos"
   ]
  },
  {
   "cell_type": "markdown",
   "metadata": {},
   "source": [
    "# range()\n",
    "range function can have three values in it as shown\n",
    "range(a,b,c)\n",
    "\n",
    "- a-lower limit(Starts)(default 0)\n",
    "- b-upper limit (needs to be mentioned)\n",
    "- c-increment value( 1 ,2,3..)\n",
    "\n",
    "- eg:range(2,8,2)\n",
    "- o/p:2,4,6\n",
    "*it usally stops before one upper limit value \n",
    "- its set of values which has a upper and lower limit \n"
   ]
  },
  {
   "cell_type": "code",
   "execution_count": 8,
   "metadata": {},
   "outputs": [
    {
     "name": "stdout",
     "output_type": "stream",
     "text": [
      "2\n",
      "4\n",
      "6\n"
     ]
    }
   ],
   "source": [
    "for i in range(2,8,2):\n",
    "    print(i)"
   ]
  },
  {
   "cell_type": "code",
   "execution_count": 17,
   "metadata": {},
   "outputs": [
    {
     "name": "stdout",
     "output_type": "stream",
     "text": [
      "enter value3\n",
      "enter value6\n",
      "3\n",
      "12\n",
      "60\n"
     ]
    }
   ],
   "source": [
    "def fun():\n",
    "      a=int(input(\"enter value\"))\n",
    "      b=int(input(\"enter value\"))\n",
    "      c=1\n",
    "      for i in range(a,b):\n",
    "        c=c*i\n",
    "        print(c)\n",
    "fun()"
   ]
  },
  {
   "cell_type": "code",
   "execution_count": 19,
   "metadata": {},
   "outputs": [
    {
     "name": "stdout",
     "output_type": "stream",
     "text": [
      "enter value390\n",
      "enter value310\n",
      "product 120900\n"
     ]
    }
   ],
   "source": [
    "a=int(input(\"enter value\"))\n",
    "b=int(input(\"enter value\"))\n",
    "sub=a-b\n",
    "if(sub>25):\n",
    "    print(\"product\",a*b)\n",
    "else:\n",
    "    print(\"div\",a/b)\n",
    "\n",
    "    "
   ]
  },
  {
   "cell_type": "code",
   "execution_count": 22,
   "metadata": {},
   "outputs": [
    {
     "name": "stdout",
     "output_type": "stream",
     "text": [
      "2\n",
      "14\n",
      "34\n",
      "62\n",
      "98\n"
     ]
    }
   ],
   "source": [
    "ls=[1,2,3,4,5,6,7,8,9,10]\n",
    "for i in ls:\n",
    "    if(i%2==0):\n",
    "        print((i**2)-2)\n",
    "    else:\n",
    "        continue"
   ]
  },
  {
   "cell_type": "code",
   "execution_count": 23,
   "metadata": {},
   "outputs": [
    {
     "name": "stdout",
     "output_type": "stream",
     "text": [
      "value is 23\n",
      "value is 33\n",
      "value is 44\n",
      "value is 54\n",
      "value is 62\n",
      "value is 93\n"
     ]
    }
   ],
   "source": [
    "ls=[12,23,33,44,54,62,7,8,93,10]\n",
    "for i in ls:\n",
    "    if((i/2)>7):\n",
    "        print(\"value is\",i)\n",
    "    \n",
    "    \n",
    "    \n",
    "    "
   ]
  },
  {
   "cell_type": "code",
   "execution_count": null,
   "metadata": {},
   "outputs": [],
   "source": []
  }
 ],
 "metadata": {
  "kernelspec": {
   "display_name": "Python 3",
   "language": "python",
   "name": "python3"
  },
  "language_info": {
   "codemirror_mode": {
    "name": "ipython",
    "version": 3
   },
   "file_extension": ".py",
   "mimetype": "text/x-python",
   "name": "python",
   "nbconvert_exporter": "python",
   "pygments_lexer": "ipython3",
   "version": "3.7.6"
  }
 },
 "nbformat": 4,
 "nbformat_minor": 4
}
